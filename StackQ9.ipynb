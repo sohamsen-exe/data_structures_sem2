{
 "cells": [
  {
   "cell_type": "code",
   "execution_count": null,
   "metadata": {},
   "outputs": [],
   "source": [
    "def next_greater_element(nums):\n",
    "    stack = []\n",
    "    result = [-1] * len(nums)\n",
    "\n",
    "    for i in range(len(nums)):\n",
    "        while stack and nums[stack[-1]] < nums[i]:\n",
    "            index = stack.pop()\n",
    "            result[index] = nums[i]\n",
    "        stack.append(i)\n",
    "\n",
    "    return result\n",
    "\n",
    "# Example usage\n",
    "nums = [4, 5, 2, 10, 8]\n",
    "print(\"Input list:\", nums)\n",
    "print(\"Next greater elements:\", next_greater_element(nums))  # Output: [5, 10, 10, -1, -1]"
   ]
  }
 ],
 "metadata": {
  "language_info": {
   "name": "python"
  }
 },
 "nbformat": 4,
 "nbformat_minor": 2
}
