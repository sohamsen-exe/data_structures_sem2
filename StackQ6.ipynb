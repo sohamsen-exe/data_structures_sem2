{
 "cells": [
  {
   "cell_type": "code",
   "execution_count": null,
   "metadata": {},
   "outputs": [],
   "source": [
    "def remove_duplicates(stack):\n",
    "    seen = set()\n",
    "    unique_stack = []\n",
    "    \n",
    "    while stack:\n",
    "        element = stack.pop()\n",
    "        if element not in seen:\n",
    "            seen.add(element)\n",
    "            unique_stack.append(element)\n",
    "    \n",
    "    while unique_stack:\n",
    "        stack.append(unique_stack.pop())\n",
    "    \n",
    "# Example usage\n",
    "stack = [1, 2, 3, 2, 4, 1, 5]\n",
    "print(\"Original stack:\", stack)\n",
    "\n",
    "remove_duplicates(stack)\n",
    "\n",
    "print(\"Stack after removing duplicates:\", stack)  # Output: [1, 2, 3, 4, 5]"
   ]
  }
 ],
 "metadata": {
  "language_info": {
   "name": "python"
  }
 },
 "nbformat": 4,
 "nbformat_minor": 2
}
