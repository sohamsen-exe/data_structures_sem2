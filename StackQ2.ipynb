{
 "cells": [
  {
   "cell_type": "code",
   "execution_count": null,
   "metadata": {},
   "outputs": [],
   "source": [
    "class Stack:\n",
    "    def __init__(self):\n",
    "        self.stack = []\n",
    "\n",
    "    def push(self, x):\n",
    "        self.stack.append(x)\n",
    "\n",
    "    def pop(self):\n",
    "        if not self.is_empty():\n",
    "            return self.stack.pop()\n",
    "        return None\n",
    "\n",
    "    def peek(self):\n",
    "        if not self.is_empty():\n",
    "            return self.stack[-1]\n",
    "        return None\n",
    "\n",
    "    def is_empty(self):\n",
    "        return len(self.stack) == 0\n",
    "\n",
    "    def size(self):\n",
    "        return len(self.stack)\n",
    "\n",
    "    def sort(self):\n",
    "        temp_stack = Stack()\n",
    "        while not self.is_empty():\n",
    "            current = self.pop()\n",
    "            while not temp_stack.is_empty() and temp_stack.peek() > current:\n",
    "                self.push(temp_stack.pop())\n",
    "            temp_stack.push(current)\n",
    "        while not temp_stack.is_empty():\n",
    "            self.push(temp_stack.pop())\n",
    "\n",
    "stack = Stack()\n",
    "stack.push(3)\n",
    "stack.push(1)\n",
    "stack.push(4)\n",
    "stack.push(2)\n",
    "\n",
    "print(\"Original stack:\", stack.stack)\n",
    "\n",
    "stack.sort()\n",
    "\n",
    "print(\"Sorted stack:\", stack.stack)  # Output: [1, 2, 3, 4]"
   ]
  }
 ],
 "metadata": {
  "language_info": {
   "name": "python"
  }
 },
 "nbformat": 4,
 "nbformat_minor": 2
}
