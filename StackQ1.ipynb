{
 "cells": [
  {
   "cell_type": "code",
   "execution_count": null,
   "metadata": {},
   "outputs": [],
   "source": [
    "class Stack:\n",
    "    def __init__(self):\n",
    "        self.stack = []\n",
    "\n",
    "    def push(self, x):\n",
    "        self.stack.append(x)\n",
    "\n",
    "    def pop(self):\n",
    "        if not self.is_empty():\n",
    "            return self.stack.pop()\n",
    "        return None\n",
    "\n",
    "    def is_empty(self):\n",
    "        return len(self.stack) == 0\n",
    "\n",
    "def reverse_string(s):\n",
    "    stack = Stack()\n",
    "    \n",
    "    for char in s:\n",
    "        stack.push(char)\n",
    "    \n",
    "    reversed_str = ''\n",
    "    while not stack.is_empty():\n",
    "        reversed_str += stack.pop()\n",
    "    \n",
    "    return reversed_str\n",
    "\n",
    "# Example usage\n",
    "input_string = \"Hello World\"\n",
    "output_string = reverse_string(input_string)\n",
    "print(output_string)  # Output: \"dlroW olleH\""
   ]
  }
 ],
 "metadata": {
  "language_info": {
   "name": "python"
  }
 },
 "nbformat": 4,
 "nbformat_minor": 2
}
