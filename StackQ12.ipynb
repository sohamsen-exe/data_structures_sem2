{
 "cells": [
  {
   "cell_type": "code",
   "execution_count": null,
   "metadata": {},
   "outputs": [],
   "source": [
    "def find_mismatched_parenthesis(s):\n",
    "    stack = []\n",
    "    \n",
    "    for i, char in enumerate(s):\n",
    "        if char == '(':\n",
    "            stack.append(i)\n",
    "        elif char == ')':\n",
    "            if not stack:\n",
    "                return i\n",
    "            stack.pop()\n",
    "\n",
    "    if stack:\n",
    "        return stack[0]\n",
    "\n",
    "    return -1\n",
    "\n",
    "# Example usage\n",
    "test_string1 = \"((a + b) * (c - d))\"\n",
    "test_string2 = \"((a + b) * (c - d))(\"\n",
    "test_string3 = \"((a + b) * (c - d))())\"\n",
    "test_string4 = \"((a + b) * (c - d))())(e + f)\"\n",
    "\n",
    "print(\"Test 1:\", find_mismatched_parenthesis(test_string1))  # Output: -1\n",
    "print(\"Test 2:\", find_mismatched_parenthesis(test_string2))  # Output: 20\n",
    "print(\"Test 3:\", find_mismatched_parenthesis(test_string3))  # Output: 20\n",
    "print(\"Test 4:\", find_mismatched_parenthesis(test_string4))  # Output: 20"
   ]
  }
 ],
 "metadata": {
  "language_info": {
   "name": "python"
  }
 },
 "nbformat": 4,
 "nbformat_minor": 2
}
