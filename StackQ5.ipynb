{
 "cells": [
  {
   "cell_type": "code",
   "execution_count": null,
   "metadata": {},
   "outputs": [],
   "source": [
    "class Stack:\n",
    "    def __init__(self):\n",
    "        self.stack = []\n",
    "\n",
    "    def push(self, x):\n",
    "        self.stack.append(x)\n",
    "\n",
    "    def pop(self):\n",
    "        if not self.is_empty():\n",
    "            return self.stack.pop()\n",
    "        return None\n",
    "\n",
    "    def get_middle(self):\n",
    "        if self.is_empty():\n",
    "            return None\n",
    "        mid_index = (len(self.stack) - 1) // 2\n",
    "        return self.stack[mid_index]\n",
    "\n",
    "    def is_empty(self):\n",
    "        return len(self.stack) == 0\n",
    "\n",
    "# Example usage\n",
    "stack = Stack()\n",
    "stack.push(1)\n",
    "stack.push(2)\n",
    "stack.push(3)\n",
    "stack.push(4)\n",
    "\n",
    "print(stack.get_middle())  # Output: 2 (middle of [1, 2, 3, 4])\n",
    "\n",
    "stack.push(5)\n",
    "\n",
    "print(stack.get_middle())  # Output: 3 (middle of [1, 2, 3, 4, 5])\n",
    "\n",
    "stack.pop()\n",
    "\n",
    "print(stack.get_middle())  # Output: 2 (middle of [1, 2, 3, 4])"
   ]
  }
 ],
 "metadata": {
  "language_info": {
   "name": "python"
  }
 },
 "nbformat": 4,
 "nbformat_minor": 2
}
