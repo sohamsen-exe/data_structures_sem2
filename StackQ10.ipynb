{
 "cells": [
  {
   "cell_type": "code",
   "execution_count": null,
   "metadata": {},
   "outputs": [],
   "source": [
    "from collections import deque\n",
    "\n",
    "class Queue:\n",
    "    def __init__(self):\n",
    "        self.queue = deque()\n",
    "\n",
    "    def enqueue(self, x):\n",
    "        self.queue.append(x)\n",
    "\n",
    "    def dequeue(self):\n",
    "        if not self.is_empty():\n",
    "            return self.queue.popleft()\n",
    "        return None\n",
    "\n",
    "    def is_empty(self):\n",
    "        return len(self.queue) == 0\n",
    "\n",
    "    def size(self):\n",
    "        return len(self.queue)\n",
    "\n",
    "    def reverse(self):\n",
    "        stack = []\n",
    "        \n",
    "        while not self.is_empty():\n",
    "            stack.append(self.dequeue())\n",
    "            \n",
    "        while stack:\n",
    "            self.enqueue(stack.pop())\n",
    "\n",
    "# Example usage\n",
    "queue = Queue()\n",
    "queue.enqueue(1)\n",
    "queue.enqueue(2)\n",
    "queue.enqueue(3)\n",
    "queue.enqueue(4)\n",
    "\n",
    "print(\"Original queue:\", list(queue.queue))\n",
    "\n",
    "queue.reverse()\n",
    "\n",
    "print(\"Reversed queue:\", list(queue.queue))  # Output: [4, 3, 2, 1]"
   ]
  }
 ],
 "metadata": {
  "language_info": {
   "name": "python"
  }
 },
 "nbformat": 4,
 "nbformat_minor": 2
}
