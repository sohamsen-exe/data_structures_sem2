{
 "cells": [
  {
   "cell_type": "code",
   "execution_count": null,
   "metadata": {},
   "outputs": [],
   "source": [
    "class UndoRedoSystem:\n",
    "    def __init__(self):\n",
    "        self.undo_stack = []\n",
    "        self.redo_stack = []\n",
    "\n",
    "    def perform_action(self, action):\n",
    "        self.undo_stack.append(action)\n",
    "        self.redo_stack.clear()\n",
    "\n",
    "    def undo(self):\n",
    "        if not self.undo_stack:\n",
    "            return None\n",
    "        action = self.undo_stack.pop()\n",
    "        self.redo_stack.append(action)\n",
    "        return action\n",
    "\n",
    "    def redo(self):\n",
    "        if not self.redo_stack:\n",
    "            return None\n",
    "        action = self.redo_stack.pop()\n",
    "        self.undo_stack.append(action)\n",
    "        return action\n",
    "\n",
    "# Example usage\n",
    "undo_redo = UndoRedoSystem()\n",
    "\n",
    "undo_redo.perform_action(\"Action 1\")\n",
    "undo_redo.perform_action(\"Action 2\")\n",
    "undo_redo.perform_action(\"Action 3\")\n",
    "\n",
    "print(undo_redo.undo())  # Output: \"Action 3\"\n",
    "print(undo_redo.undo())  # Output: \"Action 2\"\n",
    "\n",
    "undo_redo.redo()          # Redo \"Action 2\"\n",
    "print(undo_redo.undo())  # Output: \"Action 2\"\n",
    "print(undo_redo.redo())  # Output: \"Action 2\"\n",
    "print(undo_redo.redo())  # Output: \"Action 3\"\n",
    "print(undo_redo.redo())  # Output: None (no actions to redo)"
   ]
  }
 ],
 "metadata": {
  "language_info": {
   "name": "python"
  }
 },
 "nbformat": 4,
 "nbformat_minor": 2
}
