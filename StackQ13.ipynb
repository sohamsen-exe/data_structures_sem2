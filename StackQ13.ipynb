{
 "cells": [
  {
   "cell_type": "code",
   "execution_count": null,
   "metadata": {},
   "outputs": [],
   "source": [
    "def find_balanced_parentheses(s):\n",
    "    stack = []\n",
    "    balanced_positions = []\n",
    "\n",
    "    for i, char in enumerate(s):\n",
    "        if char == '(':\n",
    "            stack.append(i)\n",
    "        elif char == ')':\n",
    "            if stack:\n",
    "                start_index = stack.pop()\n",
    "                balanced_positions.append((start_index, i))\n",
    "\n",
    "    return balanced_positions\n",
    "\n",
    "# Example usage\n",
    "test_string = \"a(b(c)d)e(f(g)h)i(j(k))l)m(n)o(p(q)r)s(t(u)v)w(x)y(z)\"\n",
    "balanced_positions = find_balanced_parentheses(test_string)\n",
    "\n",
    "print(\"Balanced parentheses positions:\", balanced_positions)"
   ]
  }
 ],
 "metadata": {
  "language_info": {
   "name": "python"
  }
 },
 "nbformat": 4,
 "nbformat_minor": 2
}
