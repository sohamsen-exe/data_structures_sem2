{
 "cells": [
  {
   "cell_type": "code",
   "execution_count": null,
   "metadata": {},
   "outputs": [],
   "source": [
    "def min_parentheses_to_add(s):\n",
    "    open_count = 0\n",
    "    close_count = 0\n",
    "\n",
    "    for char in s:\n",
    "        if char == '(':\n",
    "            open_count += 1\n",
    "        elif char == ')':\n",
    "            if open_count > 0:\n",
    "                open_count -= 1\n",
    "            else:\n",
    "                close_count += 1\n",
    "\n",
    "    return open_count + close_count\n",
    "\n",
    "# Example usage\n",
    "test_string1 = \"(()\"\n",
    "test_string2 = \"())\"\n",
    "test_string3 = \"((())\"\n",
    "test_string4 = \"())(()\"\n",
    "\n",
    "print(\"Minimum parentheses to add for '{}': {}\".format(test_string1, min_parentheses_to_add(test_string1)))  # Output: 1\n",
    "print(\"Minimum parentheses to add for '{}': {}\".format(test_string2, min_parentheses_to_add(test_string2)))  # Output: 1\n",
    "print(\"Minimum parentheses to add for '{}': {}\".format(test_string3, min_parentheses_to_add(test_string3)))  # Output: 1\n",
    "print(\"Minimum parentheses to add for '{}': {}\".format(test_string4, min_parentheses_to_add(test_string4)))  # Output: 2"
   ]
  }
 ],
 "metadata": {
  "language_info": {
   "name": "python"
  }
 },
 "nbformat": 4,
 "nbformat_minor": 2
}
