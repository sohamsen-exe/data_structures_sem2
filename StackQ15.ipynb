{
 "cells": [
  {
   "cell_type": "code",
   "execution_count": null,
   "metadata": {},
   "outputs": [],
   "source": [
    "def longest_valid_parentheses(s):\n",
    "    max_length = 0\n",
    "    stack = [-1]  for i, char in enumerate(s):\n",
    "        if char == '(':\n",
    "            stack.append(i)\n",
    "        else:\n",
    "            stack.pop()\n",
    "            if not stack:\n",
    "                stack.append(i)  \n",
    "            else:\n",
    "                max_length = max(max_length, i - stack[-1])  \n",
    "\n",
    "    return max_length\n",
    "\n",
    "# Example usage\n",
    "test_string1 = \"(()\"\n",
    "test_string2 = \")()())\"\n",
    "test_string3 = \"()(())\"\n",
    "test_string4 = \"((()))\"\n",
    "\n",
    "print(\"Longest valid parentheses substring length for '{}': {}\".format(test_string1, longest_valid_parentheses(test_string1)))  # Output: 2\n",
    "print(\"Longest valid parentheses substring length for '{}': {}\".format(test_string2, longest_valid_parentheses(test_string2)))  # Output: 4\n",
    "print(\"Longest valid parentheses substring length for '{}': {}\".format(test_string3, longest_valid_parentheses(test_string3)))  # Output: 6\n",
    "print(\"Longest valid parentheses substring length for '{}': {}\".format(test_string4, longest_valid_parentheses(test_string4)))  # Output: 6"
   ]
  }
 ],
 "metadata": {
  "language_info": {
   "name": "python"
  }
 },
 "nbformat": 4,
 "nbformat_minor": 2
}
