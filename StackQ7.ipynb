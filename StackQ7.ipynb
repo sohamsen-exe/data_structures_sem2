{
 "cells": [
  {
   "cell_type": "code",
   "execution_count": null,
   "metadata": {},
   "outputs": [],
   "source": [
    "class StackUsingQueues:\n",
    "    def __init__(self):\n",
    "        self.queue1 = []\n",
    "        self.queue2 = []\n",
    "\n",
    "    def push(self, x):\n",
    "        self.queue1.append(x)\n",
    "\n",
    "    def pop(self):\n",
    "        if self.is_empty():\n",
    "            return None\n",
    "        while len(self.queue1) > 1:\n",
    "            self.queue2.append(self.queue1.pop(0))\n",
    "        top_element = self.queue1.pop(0)\n",
    "        self.queue1, self.queue2 = self.queue2, self.queue1\n",
    "        return top_element\n",
    "\n",
    "    def peek(self):\n",
    "        if self.is_empty():\n",
    "            return None\n",
    "        while len(self.queue1) > 1:\n",
    "            self.queue2.append(self.queue1.pop(0))\n",
    "        top_element = self.queue1[0]\n",
    "        self.queue2.append(self.queue1.pop(0))\n",
    "        self.queue1, self.queue2 = self.queue2, self.queue1\n",
    "        return top_element\n",
    "\n",
    "    def is_empty(self):\n",
    "        return len(self.queue1) == 0\n",
    "\n",
    "# Example usage\n",
    "stack = StackUsingQueues()\n",
    "stack.push(1)\n",
    "stack.push(2)\n",
    "stack.push(3)\n",
    "\n",
    "print(stack.peek())  # Output: 3\n",
    "print(stack.pop())   # Output: 3\n",
    "print(stack.peek())  # Output: 2\n",
    "print(stack.is_empty())  # Output: False\n",
    "print(stack.pop())   # Output: 2\n",
    "print(stack.pop())   # Output: 1\n",
    "print(stack.is_empty())  # Output: True"
   ]
  }
 ],
 "metadata": {
  "language_info": {
   "name": "python"
  }
 },
 "nbformat": 4,
 "nbformat_minor": 2
}
