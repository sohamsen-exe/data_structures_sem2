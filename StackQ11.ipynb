{
 "cells": [
  {
   "cell_type": "code",
   "execution_count": null,
   "metadata": {},
   "outputs": [],
   "source": [
    "class Stack:\n",
    "    def __init__(self):\n",
    "        self.stack = []\n",
    "\n",
    "    def push(self, x):\n",
    "        self.stack.append(x)\n",
    "\n",
    "    def pop(self):\n",
    "        if not self.is_empty():\n",
    "            return self.stack.pop()\n",
    "        return None\n",
    "\n",
    "    def is_empty(self):\n",
    "        return len(self.stack) == 0\n",
    "\n",
    "    def get_stack(self):\n",
    "        return self.stack\n",
    "\n",
    "def remove_elements_less_than_x(stack, x):\n",
    "    \n",
    "    temp_stack = Stack()\n",
    "\n",
    "    \n",
    "    while not stack.is_empty():\n",
    "        element = stack.pop()\n",
    "        if element >= x:\n",
    "            temp_stack.push(element)\n",
    "\n",
    "    \n",
    "    while not temp_stack.is_empty():\n",
    "        stack.push(temp_stack.pop())\n",
    "\n",
    "    return stack\n",
    "\n",
    "# Example usage\n",
    "stack = Stack()\n",
    "stack.push(1)\n",
    "stack.push(4)\n",
    "stack.push(2)\n",
    "stack.push(5)\n",
    "stack.push(3)\n",
    "\n",
    "print(\"Original stack:\", stack.get_stack())  # Output: [1, 4, 2, 5, 3]\n",
    "\n",
    "x = 3\n",
    "modified_stack = remove_elements_less_than_x(stack, x)\n",
    "\n",
    "print(\"Modified stack after removing elements less than\", x, \":\", modified_stack.get_stack())  # Output: [4, 5, 3]"
   ]
  }
 ],
 "metadata": {
  "language_info": {
   "name": "python"
  }
 },
 "nbformat": 4,
 "nbformat_minor": 2
}
